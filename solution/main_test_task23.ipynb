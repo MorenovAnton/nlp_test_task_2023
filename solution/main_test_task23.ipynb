{
 "cells": [
  {
   "cell_type": "code",
   "execution_count": 302,
   "id": "47abc7d7",
   "metadata": {},
   "outputs": [],
   "source": [
    "from data_loading_fun_helper import read_data\n",
    "from data_loading_fun_helper import create_dataset\n",
    "\n",
    "from text_preprocessing_helper import cleaning_text\n",
    "from text_preprocessing_helper import check_spelling\n",
    "from text_preprocessing_helper import remove_stopwords\n",
    "from text_preprocessing_helper import lem_tokens\n",
    "from text_preprocessing_helper import find_new_answer_indexes\n",
    "\n",
    "from word_embedding.CosineSimilarityConv import CosineSimilarityConv\n",
    "from model import RNN\n",
    "\n",
    "import nltk\n",
    "from collections import Counter\n",
    "import pandas as pd\n",
    "import numpy as np\n",
    "import os\n",
    "import string\n",
    "import plotly.graph_objs as go\n",
    "from sklearn.model_selection import train_test_split\n",
    "\n",
    "import torch\n",
    "from torch.utils.data import TensorDataset, DataLoader\n",
    "import torch.nn as nn\n",
    "import json"
   ]
  },
  {
   "cell_type": "code",
   "execution_count": 260,
   "id": "4c8de340",
   "metadata": {},
   "outputs": [
    {
     "name": "stdout",
     "output_type": "stream",
     "text": [
      "No GPU, using CPU\n"
     ]
    }
   ],
   "source": [
    "if torch.cuda.is_available():\n",
    "    device = torch.device(\"cuda\")\n",
    "    print('GPU:', torch.cuda.device_count())\n",
    "    print('Device name', torch.cuda.get_device_name(0))\n",
    "else:\n",
    "    print('No GPU, using CPU')\n",
    "    device = torch.device('cpu')"
   ]
  },
  {
   "cell_type": "code",
   "execution_count": 261,
   "id": "06e70318",
   "metadata": {},
   "outputs": [],
   "source": [
    "# Путь ./dataset/train.json указывает на файл train.json в подкаталоге dataset, который находится в текущем \n",
    "# рабочем каталоге. Точка . означает текущий каталог, поэтому ./ можно опустить, и просто написать \n",
    "# dataset/train.json.\n",
    "\n",
    "train = './dataset/train.json'\n",
    "test = './dataset/test.json'"
   ]
  },
  {
   "cell_type": "code",
   "execution_count": 262,
   "id": "48586b38",
   "metadata": {},
   "outputs": [],
   "source": [
    "train = read_data(train)\n",
    "train = create_dataset(data = train, label = \"train\")\n",
    "test = read_data(test)\n",
    "test = create_dataset(data = test, label = \"test\")\n",
    "general_data_list = {'train': train, 'test': test}"
   ]
  },
  {
   "cell_type": "code",
   "execution_count": 263,
   "id": "c4d26187",
   "metadata": {},
   "outputs": [],
   "source": [
    "# наиболее часто встречающиеся слова в фрагменте текста из поля `text`, соответствующий пункту анкеты\n",
    "enforcement_contract_count = train[train['label']=='обеспечение исполнения контракта']\\\n",
    "                                        ['extracted_text'].str.split().explode().value_counts()\n",
    "enforcement_contract = pd.DataFrame(enforcement_contract_count)\n",
    "\n",
    "enforcement_contract['extracted_text'] = (enforcement_contract['extracted_text'] / \n",
    "                                          enforcement_contract.sum(axis = 0).values[0]) * 100\n",
    "enforcement_contract = enforcement_contract[enforcement_contract['extracted_text']>1]"
   ]
  },
  {
   "cell_type": "code",
   "execution_count": 264,
   "id": "0fbfa766",
   "metadata": {},
   "outputs": [
    {
     "data": {
      "application/vnd.plotly.v1+json": {
       "config": {
        "plotlyServerURL": "https://plot.ly"
       },
       "data": [
        {
         "text": [
          "исполнения",
          "цены",
          "от",
          "обеспечения",
          "Размер",
          "контракта",
          "договора",
          "начальной",
          "в",
          "(максимальной)",
          "%",
          "размере",
          "Контракта",
          "5",
          "обеспечение",
          "Обеспечение",
          "составляет",
          "5%",
          "устанавливается",
          "Договора"
         ],
         "textposition": "auto",
         "type": "bar",
         "x": [
          "исполнения",
          "цены",
          "от",
          "обеспечения",
          "Размер",
          "контракта",
          "договора",
          "начальной",
          "в",
          "(максимальной)",
          "%",
          "размере",
          "Контракта",
          "5",
          "обеспечение",
          "Обеспечение",
          "составляет",
          "5%",
          "устанавливается",
          "Договора"
         ],
         "y": [
          7.822547822547822,
          4.981684981684982,
          4.818884818884818,
          4.647944647944648,
          4.599104599104599,
          4.249084249084249,
          3.9886039886039883,
          3.638583638583639,
          3.5978835978835977,
          3.410663410663411,
          3.2560032560032557,
          2.433862433862434,
          1.9373219373219372,
          1.6605616605616607,
          1.6442816442816441,
          1.5791615791615792,
          1.505901505901506,
          1.4977614977614977,
          1.1965811965811968,
          1.0093610093610093
         ]
        }
       ],
       "layout": {
        "template": {
         "data": {
          "bar": [
           {
            "error_x": {
             "color": "#2a3f5f"
            },
            "error_y": {
             "color": "#2a3f5f"
            },
            "marker": {
             "line": {
              "color": "#E5ECF6",
              "width": 0.5
             },
             "pattern": {
              "fillmode": "overlay",
              "size": 10,
              "solidity": 0.2
             }
            },
            "type": "bar"
           }
          ],
          "barpolar": [
           {
            "marker": {
             "line": {
              "color": "#E5ECF6",
              "width": 0.5
             },
             "pattern": {
              "fillmode": "overlay",
              "size": 10,
              "solidity": 0.2
             }
            },
            "type": "barpolar"
           }
          ],
          "carpet": [
           {
            "aaxis": {
             "endlinecolor": "#2a3f5f",
             "gridcolor": "white",
             "linecolor": "white",
             "minorgridcolor": "white",
             "startlinecolor": "#2a3f5f"
            },
            "baxis": {
             "endlinecolor": "#2a3f5f",
             "gridcolor": "white",
             "linecolor": "white",
             "minorgridcolor": "white",
             "startlinecolor": "#2a3f5f"
            },
            "type": "carpet"
           }
          ],
          "choropleth": [
           {
            "colorbar": {
             "outlinewidth": 0,
             "ticks": ""
            },
            "type": "choropleth"
           }
          ],
          "contour": [
           {
            "colorbar": {
             "outlinewidth": 0,
             "ticks": ""
            },
            "colorscale": [
             [
              0,
              "#0d0887"
             ],
             [
              0.1111111111111111,
              "#46039f"
             ],
             [
              0.2222222222222222,
              "#7201a8"
             ],
             [
              0.3333333333333333,
              "#9c179e"
             ],
             [
              0.4444444444444444,
              "#bd3786"
             ],
             [
              0.5555555555555556,
              "#d8576b"
             ],
             [
              0.6666666666666666,
              "#ed7953"
             ],
             [
              0.7777777777777778,
              "#fb9f3a"
             ],
             [
              0.8888888888888888,
              "#fdca26"
             ],
             [
              1,
              "#f0f921"
             ]
            ],
            "type": "contour"
           }
          ],
          "contourcarpet": [
           {
            "colorbar": {
             "outlinewidth": 0,
             "ticks": ""
            },
            "type": "contourcarpet"
           }
          ],
          "heatmap": [
           {
            "colorbar": {
             "outlinewidth": 0,
             "ticks": ""
            },
            "colorscale": [
             [
              0,
              "#0d0887"
             ],
             [
              0.1111111111111111,
              "#46039f"
             ],
             [
              0.2222222222222222,
              "#7201a8"
             ],
             [
              0.3333333333333333,
              "#9c179e"
             ],
             [
              0.4444444444444444,
              "#bd3786"
             ],
             [
              0.5555555555555556,
              "#d8576b"
             ],
             [
              0.6666666666666666,
              "#ed7953"
             ],
             [
              0.7777777777777778,
              "#fb9f3a"
             ],
             [
              0.8888888888888888,
              "#fdca26"
             ],
             [
              1,
              "#f0f921"
             ]
            ],
            "type": "heatmap"
           }
          ],
          "heatmapgl": [
           {
            "colorbar": {
             "outlinewidth": 0,
             "ticks": ""
            },
            "colorscale": [
             [
              0,
              "#0d0887"
             ],
             [
              0.1111111111111111,
              "#46039f"
             ],
             [
              0.2222222222222222,
              "#7201a8"
             ],
             [
              0.3333333333333333,
              "#9c179e"
             ],
             [
              0.4444444444444444,
              "#bd3786"
             ],
             [
              0.5555555555555556,
              "#d8576b"
             ],
             [
              0.6666666666666666,
              "#ed7953"
             ],
             [
              0.7777777777777778,
              "#fb9f3a"
             ],
             [
              0.8888888888888888,
              "#fdca26"
             ],
             [
              1,
              "#f0f921"
             ]
            ],
            "type": "heatmapgl"
           }
          ],
          "histogram": [
           {
            "marker": {
             "pattern": {
              "fillmode": "overlay",
              "size": 10,
              "solidity": 0.2
             }
            },
            "type": "histogram"
           }
          ],
          "histogram2d": [
           {
            "colorbar": {
             "outlinewidth": 0,
             "ticks": ""
            },
            "colorscale": [
             [
              0,
              "#0d0887"
             ],
             [
              0.1111111111111111,
              "#46039f"
             ],
             [
              0.2222222222222222,
              "#7201a8"
             ],
             [
              0.3333333333333333,
              "#9c179e"
             ],
             [
              0.4444444444444444,
              "#bd3786"
             ],
             [
              0.5555555555555556,
              "#d8576b"
             ],
             [
              0.6666666666666666,
              "#ed7953"
             ],
             [
              0.7777777777777778,
              "#fb9f3a"
             ],
             [
              0.8888888888888888,
              "#fdca26"
             ],
             [
              1,
              "#f0f921"
             ]
            ],
            "type": "histogram2d"
           }
          ],
          "histogram2dcontour": [
           {
            "colorbar": {
             "outlinewidth": 0,
             "ticks": ""
            },
            "colorscale": [
             [
              0,
              "#0d0887"
             ],
             [
              0.1111111111111111,
              "#46039f"
             ],
             [
              0.2222222222222222,
              "#7201a8"
             ],
             [
              0.3333333333333333,
              "#9c179e"
             ],
             [
              0.4444444444444444,
              "#bd3786"
             ],
             [
              0.5555555555555556,
              "#d8576b"
             ],
             [
              0.6666666666666666,
              "#ed7953"
             ],
             [
              0.7777777777777778,
              "#fb9f3a"
             ],
             [
              0.8888888888888888,
              "#fdca26"
             ],
             [
              1,
              "#f0f921"
             ]
            ],
            "type": "histogram2dcontour"
           }
          ],
          "mesh3d": [
           {
            "colorbar": {
             "outlinewidth": 0,
             "ticks": ""
            },
            "type": "mesh3d"
           }
          ],
          "parcoords": [
           {
            "line": {
             "colorbar": {
              "outlinewidth": 0,
              "ticks": ""
             }
            },
            "type": "parcoords"
           }
          ],
          "pie": [
           {
            "automargin": true,
            "type": "pie"
           }
          ],
          "scatter": [
           {
            "marker": {
             "colorbar": {
              "outlinewidth": 0,
              "ticks": ""
             }
            },
            "type": "scatter"
           }
          ],
          "scatter3d": [
           {
            "line": {
             "colorbar": {
              "outlinewidth": 0,
              "ticks": ""
             }
            },
            "marker": {
             "colorbar": {
              "outlinewidth": 0,
              "ticks": ""
             }
            },
            "type": "scatter3d"
           }
          ],
          "scattercarpet": [
           {
            "marker": {
             "colorbar": {
              "outlinewidth": 0,
              "ticks": ""
             }
            },
            "type": "scattercarpet"
           }
          ],
          "scattergeo": [
           {
            "marker": {
             "colorbar": {
              "outlinewidth": 0,
              "ticks": ""
             }
            },
            "type": "scattergeo"
           }
          ],
          "scattergl": [
           {
            "marker": {
             "colorbar": {
              "outlinewidth": 0,
              "ticks": ""
             }
            },
            "type": "scattergl"
           }
          ],
          "scattermapbox": [
           {
            "marker": {
             "colorbar": {
              "outlinewidth": 0,
              "ticks": ""
             }
            },
            "type": "scattermapbox"
           }
          ],
          "scatterpolar": [
           {
            "marker": {
             "colorbar": {
              "outlinewidth": 0,
              "ticks": ""
             }
            },
            "type": "scatterpolar"
           }
          ],
          "scatterpolargl": [
           {
            "marker": {
             "colorbar": {
              "outlinewidth": 0,
              "ticks": ""
             }
            },
            "type": "scatterpolargl"
           }
          ],
          "scatterternary": [
           {
            "marker": {
             "colorbar": {
              "outlinewidth": 0,
              "ticks": ""
             }
            },
            "type": "scatterternary"
           }
          ],
          "surface": [
           {
            "colorbar": {
             "outlinewidth": 0,
             "ticks": ""
            },
            "colorscale": [
             [
              0,
              "#0d0887"
             ],
             [
              0.1111111111111111,
              "#46039f"
             ],
             [
              0.2222222222222222,
              "#7201a8"
             ],
             [
              0.3333333333333333,
              "#9c179e"
             ],
             [
              0.4444444444444444,
              "#bd3786"
             ],
             [
              0.5555555555555556,
              "#d8576b"
             ],
             [
              0.6666666666666666,
              "#ed7953"
             ],
             [
              0.7777777777777778,
              "#fb9f3a"
             ],
             [
              0.8888888888888888,
              "#fdca26"
             ],
             [
              1,
              "#f0f921"
             ]
            ],
            "type": "surface"
           }
          ],
          "table": [
           {
            "cells": {
             "fill": {
              "color": "#EBF0F8"
             },
             "line": {
              "color": "white"
             }
            },
            "header": {
             "fill": {
              "color": "#C8D4E3"
             },
             "line": {
              "color": "white"
             }
            },
            "type": "table"
           }
          ]
         },
         "layout": {
          "annotationdefaults": {
           "arrowcolor": "#2a3f5f",
           "arrowhead": 0,
           "arrowwidth": 1
          },
          "autotypenumbers": "strict",
          "coloraxis": {
           "colorbar": {
            "outlinewidth": 0,
            "ticks": ""
           }
          },
          "colorscale": {
           "diverging": [
            [
             0,
             "#8e0152"
            ],
            [
             0.1,
             "#c51b7d"
            ],
            [
             0.2,
             "#de77ae"
            ],
            [
             0.3,
             "#f1b6da"
            ],
            [
             0.4,
             "#fde0ef"
            ],
            [
             0.5,
             "#f7f7f7"
            ],
            [
             0.6,
             "#e6f5d0"
            ],
            [
             0.7,
             "#b8e186"
            ],
            [
             0.8,
             "#7fbc41"
            ],
            [
             0.9,
             "#4d9221"
            ],
            [
             1,
             "#276419"
            ]
           ],
           "sequential": [
            [
             0,
             "#0d0887"
            ],
            [
             0.1111111111111111,
             "#46039f"
            ],
            [
             0.2222222222222222,
             "#7201a8"
            ],
            [
             0.3333333333333333,
             "#9c179e"
            ],
            [
             0.4444444444444444,
             "#bd3786"
            ],
            [
             0.5555555555555556,
             "#d8576b"
            ],
            [
             0.6666666666666666,
             "#ed7953"
            ],
            [
             0.7777777777777778,
             "#fb9f3a"
            ],
            [
             0.8888888888888888,
             "#fdca26"
            ],
            [
             1,
             "#f0f921"
            ]
           ],
           "sequentialminus": [
            [
             0,
             "#0d0887"
            ],
            [
             0.1111111111111111,
             "#46039f"
            ],
            [
             0.2222222222222222,
             "#7201a8"
            ],
            [
             0.3333333333333333,
             "#9c179e"
            ],
            [
             0.4444444444444444,
             "#bd3786"
            ],
            [
             0.5555555555555556,
             "#d8576b"
            ],
            [
             0.6666666666666666,
             "#ed7953"
            ],
            [
             0.7777777777777778,
             "#fb9f3a"
            ],
            [
             0.8888888888888888,
             "#fdca26"
            ],
            [
             1,
             "#f0f921"
            ]
           ]
          },
          "colorway": [
           "#636efa",
           "#EF553B",
           "#00cc96",
           "#ab63fa",
           "#FFA15A",
           "#19d3f3",
           "#FF6692",
           "#B6E880",
           "#FF97FF",
           "#FECB52"
          ],
          "font": {
           "color": "#2a3f5f"
          },
          "geo": {
           "bgcolor": "white",
           "lakecolor": "white",
           "landcolor": "#E5ECF6",
           "showlakes": true,
           "showland": true,
           "subunitcolor": "white"
          },
          "hoverlabel": {
           "align": "left"
          },
          "hovermode": "closest",
          "mapbox": {
           "style": "light"
          },
          "paper_bgcolor": "white",
          "plot_bgcolor": "#E5ECF6",
          "polar": {
           "angularaxis": {
            "gridcolor": "white",
            "linecolor": "white",
            "ticks": ""
           },
           "bgcolor": "#E5ECF6",
           "radialaxis": {
            "gridcolor": "white",
            "linecolor": "white",
            "ticks": ""
           }
          },
          "scene": {
           "xaxis": {
            "backgroundcolor": "#E5ECF6",
            "gridcolor": "white",
            "gridwidth": 2,
            "linecolor": "white",
            "showbackground": true,
            "ticks": "",
            "zerolinecolor": "white"
           },
           "yaxis": {
            "backgroundcolor": "#E5ECF6",
            "gridcolor": "white",
            "gridwidth": 2,
            "linecolor": "white",
            "showbackground": true,
            "ticks": "",
            "zerolinecolor": "white"
           },
           "zaxis": {
            "backgroundcolor": "#E5ECF6",
            "gridcolor": "white",
            "gridwidth": 2,
            "linecolor": "white",
            "showbackground": true,
            "ticks": "",
            "zerolinecolor": "white"
           }
          },
          "shapedefaults": {
           "line": {
            "color": "#2a3f5f"
           }
          },
          "ternary": {
           "aaxis": {
            "gridcolor": "white",
            "linecolor": "white",
            "ticks": ""
           },
           "baxis": {
            "gridcolor": "white",
            "linecolor": "white",
            "ticks": ""
           },
           "bgcolor": "#E5ECF6",
           "caxis": {
            "gridcolor": "white",
            "linecolor": "white",
            "ticks": ""
           }
          },
          "title": {
           "x": 0.05
          },
          "xaxis": {
           "automargin": true,
           "gridcolor": "white",
           "linecolor": "white",
           "ticks": "",
           "title": {
            "standoff": 15
           },
           "zerolinecolor": "white",
           "zerolinewidth": 2
          },
          "yaxis": {
           "automargin": true,
           "gridcolor": "white",
           "linecolor": "white",
           "ticks": "",
           "title": {
            "standoff": 15
           },
           "zerolinecolor": "white",
           "zerolinewidth": 2
          }
         }
        },
        "title": {
         "text": "Частота встречаимости слов в фрагменте текста из поля `text`, соответствующий пункту анкеты"
        },
        "xaxis": {
         "title": {
          "text": "Слово"
         }
        },
        "yaxis": {
         "title": {
          "text": "Количество всречаимости слова"
         }
        }
       }
      },
      "text/html": [
       "<div>                            <div id=\"7494ac85-e371-4cba-8b0d-4b33935882cd\" class=\"plotly-graph-div\" style=\"height:525px; width:100%;\"></div>            <script type=\"text/javascript\">                require([\"plotly\"], function(Plotly) {                    window.PLOTLYENV=window.PLOTLYENV || {};                                    if (document.getElementById(\"7494ac85-e371-4cba-8b0d-4b33935882cd\")) {                    Plotly.newPlot(                        \"7494ac85-e371-4cba-8b0d-4b33935882cd\",                        [{\"text\":[\"\\u0438\\u0441\\u043f\\u043e\\u043b\\u043d\\u0435\\u043d\\u0438\\u044f\",\"\\u0446\\u0435\\u043d\\u044b\",\"\\u043e\\u0442\",\"\\u043e\\u0431\\u0435\\u0441\\u043f\\u0435\\u0447\\u0435\\u043d\\u0438\\u044f\",\"\\u0420\\u0430\\u0437\\u043c\\u0435\\u0440\",\"\\u043a\\u043e\\u043d\\u0442\\u0440\\u0430\\u043a\\u0442\\u0430\",\"\\u0434\\u043e\\u0433\\u043e\\u0432\\u043e\\u0440\\u0430\",\"\\u043d\\u0430\\u0447\\u0430\\u043b\\u044c\\u043d\\u043e\\u0439\",\"\\u0432\",\"(\\u043c\\u0430\\u043a\\u0441\\u0438\\u043c\\u0430\\u043b\\u044c\\u043d\\u043e\\u0439)\",\"%\",\"\\u0440\\u0430\\u0437\\u043c\\u0435\\u0440\\u0435\",\"\\u041a\\u043e\\u043d\\u0442\\u0440\\u0430\\u043a\\u0442\\u0430\",\"5\",\"\\u043e\\u0431\\u0435\\u0441\\u043f\\u0435\\u0447\\u0435\\u043d\\u0438\\u0435\",\"\\u041e\\u0431\\u0435\\u0441\\u043f\\u0435\\u0447\\u0435\\u043d\\u0438\\u0435\",\"\\u0441\\u043e\\u0441\\u0442\\u0430\\u0432\\u043b\\u044f\\u0435\\u0442\",\"5%\",\"\\u0443\\u0441\\u0442\\u0430\\u043d\\u0430\\u0432\\u043b\\u0438\\u0432\\u0430\\u0435\\u0442\\u0441\\u044f\",\"\\u0414\\u043e\\u0433\\u043e\\u0432\\u043e\\u0440\\u0430\"],\"textposition\":\"auto\",\"x\":[\"\\u0438\\u0441\\u043f\\u043e\\u043b\\u043d\\u0435\\u043d\\u0438\\u044f\",\"\\u0446\\u0435\\u043d\\u044b\",\"\\u043e\\u0442\",\"\\u043e\\u0431\\u0435\\u0441\\u043f\\u0435\\u0447\\u0435\\u043d\\u0438\\u044f\",\"\\u0420\\u0430\\u0437\\u043c\\u0435\\u0440\",\"\\u043a\\u043e\\u043d\\u0442\\u0440\\u0430\\u043a\\u0442\\u0430\",\"\\u0434\\u043e\\u0433\\u043e\\u0432\\u043e\\u0440\\u0430\",\"\\u043d\\u0430\\u0447\\u0430\\u043b\\u044c\\u043d\\u043e\\u0439\",\"\\u0432\",\"(\\u043c\\u0430\\u043a\\u0441\\u0438\\u043c\\u0430\\u043b\\u044c\\u043d\\u043e\\u0439)\",\"%\",\"\\u0440\\u0430\\u0437\\u043c\\u0435\\u0440\\u0435\",\"\\u041a\\u043e\\u043d\\u0442\\u0440\\u0430\\u043a\\u0442\\u0430\",\"5\",\"\\u043e\\u0431\\u0435\\u0441\\u043f\\u0435\\u0447\\u0435\\u043d\\u0438\\u0435\",\"\\u041e\\u0431\\u0435\\u0441\\u043f\\u0435\\u0447\\u0435\\u043d\\u0438\\u0435\",\"\\u0441\\u043e\\u0441\\u0442\\u0430\\u0432\\u043b\\u044f\\u0435\\u0442\",\"5%\",\"\\u0443\\u0441\\u0442\\u0430\\u043d\\u0430\\u0432\\u043b\\u0438\\u0432\\u0430\\u0435\\u0442\\u0441\\u044f\",\"\\u0414\\u043e\\u0433\\u043e\\u0432\\u043e\\u0440\\u0430\"],\"y\":[7.822547822547822,4.981684981684982,4.818884818884818,4.647944647944648,4.599104599104599,4.249084249084249,3.9886039886039883,3.638583638583639,3.5978835978835977,3.410663410663411,3.2560032560032557,2.433862433862434,1.9373219373219372,1.6605616605616607,1.6442816442816441,1.5791615791615792,1.505901505901506,1.4977614977614977,1.1965811965811968,1.0093610093610093],\"type\":\"bar\"}],                        {\"title\":{\"text\":\"\\u0427\\u0430\\u0441\\u0442\\u043e\\u0442\\u0430 \\u0432\\u0441\\u0442\\u0440\\u0435\\u0447\\u0430\\u0438\\u043c\\u043e\\u0441\\u0442\\u0438 \\u0441\\u043b\\u043e\\u0432 \\u0432 \\u0444\\u0440\\u0430\\u0433\\u043c\\u0435\\u043d\\u0442\\u0435 \\u0442\\u0435\\u043a\\u0441\\u0442\\u0430 \\u0438\\u0437 \\u043f\\u043e\\u043b\\u044f `text`, \\u0441\\u043e\\u043e\\u0442\\u0432\\u0435\\u0442\\u0441\\u0442\\u0432\\u0443\\u044e\\u0449\\u0438\\u0439 \\u043f\\u0443\\u043d\\u043a\\u0442\\u0443 \\u0430\\u043d\\u043a\\u0435\\u0442\\u044b\"},\"xaxis\":{\"title\":{\"text\":\"\\u0421\\u043b\\u043e\\u0432\\u043e\"}},\"yaxis\":{\"title\":{\"text\":\"\\u041a\\u043e\\u043b\\u0438\\u0447\\u0435\\u0441\\u0442\\u0432\\u043e \\u0432\\u0441\\u0440\\u0435\\u0447\\u0430\\u0438\\u043c\\u043e\\u0441\\u0442\\u0438 \\u0441\\u043b\\u043e\\u0432\\u0430\"}},\"template\":{\"data\":{\"bar\":[{\"error_x\":{\"color\":\"#2a3f5f\"},\"error_y\":{\"color\":\"#2a3f5f\"},\"marker\":{\"line\":{\"color\":\"#E5ECF6\",\"width\":0.5},\"pattern\":{\"fillmode\":\"overlay\",\"size\":10,\"solidity\":0.2}},\"type\":\"bar\"}],\"barpolar\":[{\"marker\":{\"line\":{\"color\":\"#E5ECF6\",\"width\":0.5},\"pattern\":{\"fillmode\":\"overlay\",\"size\":10,\"solidity\":0.2}},\"type\":\"barpolar\"}],\"carpet\":[{\"aaxis\":{\"endlinecolor\":\"#2a3f5f\",\"gridcolor\":\"white\",\"linecolor\":\"white\",\"minorgridcolor\":\"white\",\"startlinecolor\":\"#2a3f5f\"},\"baxis\":{\"endlinecolor\":\"#2a3f5f\",\"gridcolor\":\"white\",\"linecolor\":\"white\",\"minorgridcolor\":\"white\",\"startlinecolor\":\"#2a3f5f\"},\"type\":\"carpet\"}],\"choropleth\":[{\"colorbar\":{\"outlinewidth\":0,\"ticks\":\"\"},\"type\":\"choropleth\"}],\"contour\":[{\"colorbar\":{\"outlinewidth\":0,\"ticks\":\"\"},\"colorscale\":[[0.0,\"#0d0887\"],[0.1111111111111111,\"#46039f\"],[0.2222222222222222,\"#7201a8\"],[0.3333333333333333,\"#9c179e\"],[0.4444444444444444,\"#bd3786\"],[0.5555555555555556,\"#d8576b\"],[0.6666666666666666,\"#ed7953\"],[0.7777777777777778,\"#fb9f3a\"],[0.8888888888888888,\"#fdca26\"],[1.0,\"#f0f921\"]],\"type\":\"contour\"}],\"contourcarpet\":[{\"colorbar\":{\"outlinewidth\":0,\"ticks\":\"\"},\"type\":\"contourcarpet\"}],\"heatmap\":[{\"colorbar\":{\"outlinewidth\":0,\"ticks\":\"\"},\"colorscale\":[[0.0,\"#0d0887\"],[0.1111111111111111,\"#46039f\"],[0.2222222222222222,\"#7201a8\"],[0.3333333333333333,\"#9c179e\"],[0.4444444444444444,\"#bd3786\"],[0.5555555555555556,\"#d8576b\"],[0.6666666666666666,\"#ed7953\"],[0.7777777777777778,\"#fb9f3a\"],[0.8888888888888888,\"#fdca26\"],[1.0,\"#f0f921\"]],\"type\":\"heatmap\"}],\"heatmapgl\":[{\"colorbar\":{\"outlinewidth\":0,\"ticks\":\"\"},\"colorscale\":[[0.0,\"#0d0887\"],[0.1111111111111111,\"#46039f\"],[0.2222222222222222,\"#7201a8\"],[0.3333333333333333,\"#9c179e\"],[0.4444444444444444,\"#bd3786\"],[0.5555555555555556,\"#d8576b\"],[0.6666666666666666,\"#ed7953\"],[0.7777777777777778,\"#fb9f3a\"],[0.8888888888888888,\"#fdca26\"],[1.0,\"#f0f921\"]],\"type\":\"heatmapgl\"}],\"histogram\":[{\"marker\":{\"pattern\":{\"fillmode\":\"overlay\",\"size\":10,\"solidity\":0.2}},\"type\":\"histogram\"}],\"histogram2d\":[{\"colorbar\":{\"outlinewidth\":0,\"ticks\":\"\"},\"colorscale\":[[0.0,\"#0d0887\"],[0.1111111111111111,\"#46039f\"],[0.2222222222222222,\"#7201a8\"],[0.3333333333333333,\"#9c179e\"],[0.4444444444444444,\"#bd3786\"],[0.5555555555555556,\"#d8576b\"],[0.6666666666666666,\"#ed7953\"],[0.7777777777777778,\"#fb9f3a\"],[0.8888888888888888,\"#fdca26\"],[1.0,\"#f0f921\"]],\"type\":\"histogram2d\"}],\"histogram2dcontour\":[{\"colorbar\":{\"outlinewidth\":0,\"ticks\":\"\"},\"colorscale\":[[0.0,\"#0d0887\"],[0.1111111111111111,\"#46039f\"],[0.2222222222222222,\"#7201a8\"],[0.3333333333333333,\"#9c179e\"],[0.4444444444444444,\"#bd3786\"],[0.5555555555555556,\"#d8576b\"],[0.6666666666666666,\"#ed7953\"],[0.7777777777777778,\"#fb9f3a\"],[0.8888888888888888,\"#fdca26\"],[1.0,\"#f0f921\"]],\"type\":\"histogram2dcontour\"}],\"mesh3d\":[{\"colorbar\":{\"outlinewidth\":0,\"ticks\":\"\"},\"type\":\"mesh3d\"}],\"parcoords\":[{\"line\":{\"colorbar\":{\"outlinewidth\":0,\"ticks\":\"\"}},\"type\":\"parcoords\"}],\"pie\":[{\"automargin\":true,\"type\":\"pie\"}],\"scatter\":[{\"marker\":{\"colorbar\":{\"outlinewidth\":0,\"ticks\":\"\"}},\"type\":\"scatter\"}],\"scatter3d\":[{\"line\":{\"colorbar\":{\"outlinewidth\":0,\"ticks\":\"\"}},\"marker\":{\"colorbar\":{\"outlinewidth\":0,\"ticks\":\"\"}},\"type\":\"scatter3d\"}],\"scattercarpet\":[{\"marker\":{\"colorbar\":{\"outlinewidth\":0,\"ticks\":\"\"}},\"type\":\"scattercarpet\"}],\"scattergeo\":[{\"marker\":{\"colorbar\":{\"outlinewidth\":0,\"ticks\":\"\"}},\"type\":\"scattergeo\"}],\"scattergl\":[{\"marker\":{\"colorbar\":{\"outlinewidth\":0,\"ticks\":\"\"}},\"type\":\"scattergl\"}],\"scattermapbox\":[{\"marker\":{\"colorbar\":{\"outlinewidth\":0,\"ticks\":\"\"}},\"type\":\"scattermapbox\"}],\"scatterpolar\":[{\"marker\":{\"colorbar\":{\"outlinewidth\":0,\"ticks\":\"\"}},\"type\":\"scatterpolar\"}],\"scatterpolargl\":[{\"marker\":{\"colorbar\":{\"outlinewidth\":0,\"ticks\":\"\"}},\"type\":\"scatterpolargl\"}],\"scatterternary\":[{\"marker\":{\"colorbar\":{\"outlinewidth\":0,\"ticks\":\"\"}},\"type\":\"scatterternary\"}],\"surface\":[{\"colorbar\":{\"outlinewidth\":0,\"ticks\":\"\"},\"colorscale\":[[0.0,\"#0d0887\"],[0.1111111111111111,\"#46039f\"],[0.2222222222222222,\"#7201a8\"],[0.3333333333333333,\"#9c179e\"],[0.4444444444444444,\"#bd3786\"],[0.5555555555555556,\"#d8576b\"],[0.6666666666666666,\"#ed7953\"],[0.7777777777777778,\"#fb9f3a\"],[0.8888888888888888,\"#fdca26\"],[1.0,\"#f0f921\"]],\"type\":\"surface\"}],\"table\":[{\"cells\":{\"fill\":{\"color\":\"#EBF0F8\"},\"line\":{\"color\":\"white\"}},\"header\":{\"fill\":{\"color\":\"#C8D4E3\"},\"line\":{\"color\":\"white\"}},\"type\":\"table\"}]},\"layout\":{\"annotationdefaults\":{\"arrowcolor\":\"#2a3f5f\",\"arrowhead\":0,\"arrowwidth\":1},\"autotypenumbers\":\"strict\",\"coloraxis\":{\"colorbar\":{\"outlinewidth\":0,\"ticks\":\"\"}},\"colorscale\":{\"diverging\":[[0,\"#8e0152\"],[0.1,\"#c51b7d\"],[0.2,\"#de77ae\"],[0.3,\"#f1b6da\"],[0.4,\"#fde0ef\"],[0.5,\"#f7f7f7\"],[0.6,\"#e6f5d0\"],[0.7,\"#b8e186\"],[0.8,\"#7fbc41\"],[0.9,\"#4d9221\"],[1,\"#276419\"]],\"sequential\":[[0.0,\"#0d0887\"],[0.1111111111111111,\"#46039f\"],[0.2222222222222222,\"#7201a8\"],[0.3333333333333333,\"#9c179e\"],[0.4444444444444444,\"#bd3786\"],[0.5555555555555556,\"#d8576b\"],[0.6666666666666666,\"#ed7953\"],[0.7777777777777778,\"#fb9f3a\"],[0.8888888888888888,\"#fdca26\"],[1.0,\"#f0f921\"]],\"sequentialminus\":[[0.0,\"#0d0887\"],[0.1111111111111111,\"#46039f\"],[0.2222222222222222,\"#7201a8\"],[0.3333333333333333,\"#9c179e\"],[0.4444444444444444,\"#bd3786\"],[0.5555555555555556,\"#d8576b\"],[0.6666666666666666,\"#ed7953\"],[0.7777777777777778,\"#fb9f3a\"],[0.8888888888888888,\"#fdca26\"],[1.0,\"#f0f921\"]]},\"colorway\":[\"#636efa\",\"#EF553B\",\"#00cc96\",\"#ab63fa\",\"#FFA15A\",\"#19d3f3\",\"#FF6692\",\"#B6E880\",\"#FF97FF\",\"#FECB52\"],\"font\":{\"color\":\"#2a3f5f\"},\"geo\":{\"bgcolor\":\"white\",\"lakecolor\":\"white\",\"landcolor\":\"#E5ECF6\",\"showlakes\":true,\"showland\":true,\"subunitcolor\":\"white\"},\"hoverlabel\":{\"align\":\"left\"},\"hovermode\":\"closest\",\"mapbox\":{\"style\":\"light\"},\"paper_bgcolor\":\"white\",\"plot_bgcolor\":\"#E5ECF6\",\"polar\":{\"angularaxis\":{\"gridcolor\":\"white\",\"linecolor\":\"white\",\"ticks\":\"\"},\"bgcolor\":\"#E5ECF6\",\"radialaxis\":{\"gridcolor\":\"white\",\"linecolor\":\"white\",\"ticks\":\"\"}},\"scene\":{\"xaxis\":{\"backgroundcolor\":\"#E5ECF6\",\"gridcolor\":\"white\",\"gridwidth\":2,\"linecolor\":\"white\",\"showbackground\":true,\"ticks\":\"\",\"zerolinecolor\":\"white\"},\"yaxis\":{\"backgroundcolor\":\"#E5ECF6\",\"gridcolor\":\"white\",\"gridwidth\":2,\"linecolor\":\"white\",\"showbackground\":true,\"ticks\":\"\",\"zerolinecolor\":\"white\"},\"zaxis\":{\"backgroundcolor\":\"#E5ECF6\",\"gridcolor\":\"white\",\"gridwidth\":2,\"linecolor\":\"white\",\"showbackground\":true,\"ticks\":\"\",\"zerolinecolor\":\"white\"}},\"shapedefaults\":{\"line\":{\"color\":\"#2a3f5f\"}},\"ternary\":{\"aaxis\":{\"gridcolor\":\"white\",\"linecolor\":\"white\",\"ticks\":\"\"},\"baxis\":{\"gridcolor\":\"white\",\"linecolor\":\"white\",\"ticks\":\"\"},\"bgcolor\":\"#E5ECF6\",\"caxis\":{\"gridcolor\":\"white\",\"linecolor\":\"white\",\"ticks\":\"\"}},\"title\":{\"x\":0.05},\"xaxis\":{\"automargin\":true,\"gridcolor\":\"white\",\"linecolor\":\"white\",\"ticks\":\"\",\"title\":{\"standoff\":15},\"zerolinecolor\":\"white\",\"zerolinewidth\":2},\"yaxis\":{\"automargin\":true,\"gridcolor\":\"white\",\"linecolor\":\"white\",\"ticks\":\"\",\"title\":{\"standoff\":15},\"zerolinecolor\":\"white\",\"zerolinewidth\":2}}}},                        {\"responsive\": true}                    ).then(function(){\n",
       "                            \n",
       "var gd = document.getElementById('7494ac85-e371-4cba-8b0d-4b33935882cd');\n",
       "var x = new MutationObserver(function (mutations, observer) {{\n",
       "        var display = window.getComputedStyle(gd).display;\n",
       "        if (!display || display === 'none') {{\n",
       "            console.log([gd, 'removed!']);\n",
       "            Plotly.purge(gd);\n",
       "            observer.disconnect();\n",
       "        }}\n",
       "}});\n",
       "\n",
       "// Listen for the removal of the full notebook cells\n",
       "var notebookContainer = gd.closest('#notebook-container');\n",
       "if (notebookContainer) {{\n",
       "    x.observe(notebookContainer, {childList: true});\n",
       "}}\n",
       "\n",
       "// Listen for the clearing of the current output cell\n",
       "var outputEl = gd.closest('.output');\n",
       "if (outputEl) {{\n",
       "    x.observe(outputEl, {childList: true});\n",
       "}}\n",
       "\n",
       "                        })                };                });            </script>        </div>"
      ]
     },
     "metadata": {},
     "output_type": "display_data"
    }
   ],
   "source": [
    "barplot = go.Bar(\n",
    "    x = enforcement_contract.index,\n",
    "    y = enforcement_contract.extracted_text,\n",
    "    text = enforcement_contract.index,\n",
    "    textposition='auto',\n",
    ")\n",
    "\n",
    "# Создание объекта Layout для настройки графика\n",
    "layout = go.Layout(\n",
    "    title = 'Частота встречаимости слов в фрагменте текста из поля `text`, соответствующий пункту анкеты',\n",
    "    xaxis=dict(title='Слово'),\n",
    "    yaxis=dict(title='Количество всречаимости слова') \n",
    ")\n",
    "\n",
    "# Создание объекта Figure и добавление на него barplot и layout\n",
    "fig = go.Figure(data=[barplot], layout=layout)\n",
    "\n",
    "# Отображение графика\n",
    "fig.show()"
   ]
  },
  {
   "cell_type": "markdown",
   "id": "c3106c7b",
   "metadata": {},
   "source": [
    "Заметим что у нас есть такие пары как \"обеспечения\" - \"обеспечение\" - \"Обеспечение\" или \"Размер\" - \"размере\". В последствии произведем лемматизацию чтобы привести все слова к одной форме"
   ]
  },
  {
   "cell_type": "code",
   "execution_count": 265,
   "id": "437193dc",
   "metadata": {},
   "outputs": [],
   "source": [
    "def build_peplane_text_processing():\n",
    "    for label, df in general_data_list.items():\n",
    "        if label == 'train':\n",
    "            cleaning_text(df, \"text\")\n",
    "            cleaning_text(df, \"extracted_text\")\n",
    "            check_spelling(df, label)\n",
    "            remove_stopwords(df, label)\n",
    "            lem_tokens(df, label)\n",
    "            find_new_answer_indexes(df)\n",
    "            \n",
    "            \n",
    "        elif label == 'test':\n",
    "            cleaning_text(df, \"text\")\n",
    "            check_spelling(df, label)\n",
    "            remove_stopwords(df, label)\n",
    "            lem_tokens(df, label)\n",
    "        "
   ]
  },
  {
   "cell_type": "markdown",
   "id": "457f2e05",
   "metadata": {},
   "source": [
    "Запустим предобработку данных, очистка текста, проверка орфографии, удаление стоп лов, лемматизация"
   ]
  },
  {
   "cell_type": "code",
   "execution_count": 266,
   "id": "35e3d3dc",
   "metadata": {},
   "outputs": [],
   "source": [
    "build_peplane_text_processing()"
   ]
  },
  {
   "cell_type": "code",
   "execution_count": 267,
   "id": "340ff9ee",
   "metadata": {},
   "outputs": [
    {
     "name": "stdout",
     "output_type": "stream",
     "text": [
      "8.156197887715397\n"
     ]
    }
   ],
   "source": [
    "def count_words(sentence):\n",
    "    # Среднее количество слов в extracted_text колонке\n",
    "    return len(sentence.split())\n",
    "\n",
    "avg_words_per_sentence = train['extracted_text'].apply(count_words).mean()\n",
    "print(avg_words_per_sentence)"
   ]
  },
  {
   "cell_type": "markdown",
   "id": "ae25328d",
   "metadata": {},
   "source": [
    "Какие комбинации из 8ми слов чаще всего встречаются в extracted_text"
   ]
  },
  {
   "cell_type": "code",
   "execution_count": 268,
   "id": "d7792744",
   "metadata": {},
   "outputs": [],
   "source": [
    "text = ' '.join(train['extracted_text'])\n",
    "tokens = nltk.word_tokenize(text)\n",
    "karnel_list = []\n",
    "\n",
    "# Генерация n-грамм\n",
    "ngrams = nltk.ngrams(tokens, 8) \n",
    "# Подсчет количества вхождений каждой комбинации\n",
    "ngrams_counter = Counter(ngrams)\n",
    "\n",
    "# Вывод 50 наиболее часто встречающихся комбинаций --> именно они и будут нашими ядрами\n",
    "for counter_most in ngrams_counter.most_common(50):\n",
    "    karnel_text = ' '.join(counter_most[0])\n",
    "    karnel_list.append(karnel_text)"
   ]
  },
  {
   "cell_type": "markdown",
   "id": "2b15f420",
   "metadata": {},
   "source": [
    "Разделим на train и valid датафреймы "
   ]
  },
  {
   "cell_type": "code",
   "execution_count": 271,
   "id": "7eb07bbc",
   "metadata": {},
   "outputs": [],
   "source": [
    "TEST_SIZE = 0.2\n",
    "SEED = 42\n",
    "\n",
    "train_df, valid_df = train_test_split(train, test_size = TEST_SIZE, random_state = SEED)"
   ]
  },
  {
   "cell_type": "markdown",
   "id": "5a7c1f90",
   "metadata": {},
   "source": [
    "Получим метки answer_start и answer_end"
   ]
  },
  {
   "cell_type": "code",
   "execution_count": 272,
   "id": "be8b7442",
   "metadata": {},
   "outputs": [],
   "source": [
    "label_train = train_df[['answer_start', 'answer_end']].values\n",
    "label_train = torch.tensor(label_train)\n",
    "\n",
    "label_valid = valid_df[['answer_start', 'answer_end']].values\n",
    "label_valid = torch.tensor(label_valid)"
   ]
  },
  {
   "cell_type": "markdown",
   "id": "71e3b82c",
   "metadata": {},
   "source": [
    "Преобразуем текст в векторную форму"
   ]
  },
  {
   "cell_type": "code",
   "execution_count": 274,
   "id": "328e103c",
   "metadata": {},
   "outputs": [],
   "source": [
    "cosine_conv = CosineSimilarityConv(train_df, valid_df, test, 'text')"
   ]
  },
  {
   "cell_type": "code",
   "execution_count": 275,
   "id": "bd79e6e0",
   "metadata": {},
   "outputs": [
    {
     "data": {
      "application/json": {
       "ascii": false,
       "bar_format": null,
       "colour": null,
       "elapsed": 0.009245157241821289,
       "initial": 0,
       "n": 0,
       "ncols": null,
       "nrows": null,
       "postfix": null,
       "prefix": "",
       "rate": null,
       "total": 50,
       "unit": "it",
       "unit_divisor": 1000,
       "unit_scale": false
      },
      "application/vnd.jupyter.widget-view+json": {
       "model_id": "9cd8f3cc66c74ca595e7a6010fe40829",
       "version_major": 2,
       "version_minor": 0
      },
      "text/plain": [
       "  0%|          | 0/50 [00:00<?, ?it/s]"
      ]
     },
     "metadata": {},
     "output_type": "display_data"
    }
   ],
   "source": [
    "# У нас 50 ядер\n",
    "cosine_conv.create_kernel_map(karnel_list, stride = 8, label = 'train')\n",
    "train_df = cosine_conv.sum_all_cosine_map()"
   ]
  },
  {
   "cell_type": "code",
   "execution_count": 283,
   "id": "62fa1d77",
   "metadata": {},
   "outputs": [
    {
     "data": {
      "application/json": {
       "ascii": false,
       "bar_format": null,
       "colour": null,
       "elapsed": 0.010643482208251953,
       "initial": 0,
       "n": 0,
       "ncols": null,
       "nrows": null,
       "postfix": null,
       "prefix": "",
       "rate": null,
       "total": 50,
       "unit": "it",
       "unit_divisor": 1000,
       "unit_scale": false
      },
      "application/vnd.jupyter.widget-view+json": {
       "model_id": "50dc5a153b4c4984859220001f2710bd",
       "version_major": 2,
       "version_minor": 0
      },
      "text/plain": [
       "  0%|          | 0/50 [00:00<?, ?it/s]"
      ]
     },
     "metadata": {},
     "output_type": "display_data"
    }
   ],
   "source": [
    "cosine_conv.create_kernel_map(karnel_list, stride = 8, label = 'valid')\n",
    "valid_df = cosine_conv.sum_all_cosine_map()"
   ]
  },
  {
   "cell_type": "code",
   "execution_count": 284,
   "id": "494e10ab",
   "metadata": {},
   "outputs": [
    {
     "data": {
      "application/json": {
       "ascii": false,
       "bar_format": null,
       "colour": null,
       "elapsed": 0.008133888244628906,
       "initial": 0,
       "n": 0,
       "ncols": null,
       "nrows": null,
       "postfix": null,
       "prefix": "",
       "rate": null,
       "total": 50,
       "unit": "it",
       "unit_divisor": 1000,
       "unit_scale": false
      },
      "application/vnd.jupyter.widget-view+json": {
       "model_id": "4a1f8e6f1ede449c9c9e5591aa9ca896",
       "version_major": 2,
       "version_minor": 0
      },
      "text/plain": [
       "  0%|          | 0/50 [00:00<?, ?it/s]"
      ]
     },
     "metadata": {},
     "output_type": "display_data"
    }
   ],
   "source": [
    "cosine_conv.create_kernel_map(karnel_list, stride = 8, label = 'test')\n",
    "test_df = cosine_conv.sum_all_cosine_map()"
   ]
  },
  {
   "cell_type": "markdown",
   "id": "1e20ecd1",
   "metadata": {},
   "source": [
    "Дополним valid_df и test_df до размерности train_df"
   ]
  },
  {
   "cell_type": "code",
   "execution_count": 285,
   "id": "f56e737b",
   "metadata": {},
   "outputs": [],
   "source": [
    "valid_df = np.pad(valid_df, ((0,0),(0,20)), mode='constant')\n",
    "test_df = np.pad(test_df, ((0,0),(0,17)), mode='constant')"
   ]
  },
  {
   "cell_type": "code",
   "execution_count": 287,
   "id": "6f442275",
   "metadata": {},
   "outputs": [
    {
     "name": "stdout",
     "output_type": "stream",
     "text": [
      "(1439, 51)\n",
      "(360, 51)\n",
      "(318, 51)\n"
     ]
    }
   ],
   "source": [
    "print(train_df.shape)\n",
    "print(valid_df.shape)\n",
    "print(test_df.shape)"
   ]
  },
  {
   "cell_type": "markdown",
   "id": "3fb7b8ee",
   "metadata": {},
   "source": [
    "Загрузим данные в DataLoader"
   ]
  },
  {
   "cell_type": "code",
   "execution_count": 288,
   "id": "e36544aa",
   "metadata": {},
   "outputs": [],
   "source": [
    "BATCH_SIZE = 32\n",
    "\n",
    "train_dataset = TensorDataset(torch.tensor(train_df), label_train)\n",
    "train_dataloader = DataLoader(train_dataset, batch_size = BATCH_SIZE)\n",
    "\n",
    "valid_dataset = TensorDataset(torch.tensor(valid_df), label_valid)\n",
    "valid_dataloader = DataLoader(valid_dataset, batch_size = BATCH_SIZE)"
   ]
  },
  {
   "cell_type": "markdown",
   "id": "14dd9dfc",
   "metadata": {},
   "source": [
    "Модель"
   ]
  },
  {
   "cell_type": "code",
   "execution_count": 289,
   "id": "64da6091",
   "metadata": {},
   "outputs": [],
   "source": [
    "# путь для сохранения модели\n",
    "model_path = './save/model.ckpt'  "
   ]
  },
  {
   "cell_type": "code",
   "execution_count": 290,
   "id": "258f2a37",
   "metadata": {},
   "outputs": [],
   "source": [
    "# создание модели\n",
    "input_size = 51\n",
    "hidden_size = 64\n",
    "num_layers = 2\n",
    "output_size = 2\n",
    "learning_rate = 0.001\n",
    "num_epochs = 150\n",
    "lambda_l2 = 0.01  # коэффициент L2 регуляризации"
   ]
  },
  {
   "cell_type": "code",
   "execution_count": 291,
   "id": "9baeb303",
   "metadata": {},
   "outputs": [],
   "source": [
    "model = RNN(input_size, hidden_size, num_layers, output_size)\n",
    "model.to(device) \n",
    "criterion = nn.MSELoss()\n",
    "optimizer = torch.optim.Adam(model.parameters(), lr=learning_rate, weight_decay=lambda_l2)"
   ]
  },
  {
   "cell_type": "code",
   "execution_count": 292,
   "id": "d0b59b57",
   "metadata": {},
   "outputs": [
    {
     "name": "stderr",
     "output_type": "stream",
     "text": [
      "/tmp/ipykernel_632171/3239672180.py:4: UserWarning:\n",
      "\n",
      "To copy construct from a tensor, it is recommended to use sourceTensor.clone().detach() or sourceTensor.clone().detach().requires_grad_(True), rather than torch.tensor(sourceTensor).\n",
      "\n",
      "/tmp/ipykernel_632171/3239672180.py:5: UserWarning:\n",
      "\n",
      "To copy construct from a tensor, it is recommended to use sourceTensor.clone().detach() or sourceTensor.clone().detach().requires_grad_(True), rather than torch.tensor(sourceTensor).\n",
      "\n"
     ]
    },
    {
     "name": "stdout",
     "output_type": "stream",
     "text": [
      "Epoch [1/150], Loss: 340247.9375\n",
      "Epoch [2/150], Loss: 27159.6523\n",
      "Epoch [3/150], Loss: 12353.2070\n",
      "Epoch [4/150], Loss: 13331.3242\n",
      "Epoch [5/150], Loss: 12685.4395\n",
      "Epoch [6/150], Loss: 10468.8223\n",
      "Epoch [7/150], Loss: 9325.1299\n",
      "Epoch [8/150], Loss: 8817.0986\n",
      "Epoch [9/150], Loss: 8182.8506\n",
      "Epoch [10/150], Loss: 7505.8115\n",
      "Epoch [11/150], Loss: 7005.2803\n",
      "Epoch [12/150], Loss: 6654.2041\n",
      "Epoch [13/150], Loss: 5827.8379\n",
      "Epoch [14/150], Loss: 5302.2988\n",
      "Epoch [15/150], Loss: 4573.8462\n",
      "Epoch [16/150], Loss: 3997.1089\n",
      "Epoch [17/150], Loss: 4138.7695\n",
      "Epoch [18/150], Loss: 5940.0879\n",
      "Epoch [19/150], Loss: 27972.0039\n",
      "Epoch [20/150], Loss: 22066.2422\n",
      "Epoch [21/150], Loss: 5182.5723\n",
      "Epoch [22/150], Loss: 5832.0186\n",
      "Epoch [23/150], Loss: 4571.3101\n",
      "Epoch [24/150], Loss: 4844.2261\n",
      "Epoch [25/150], Loss: 4688.5820\n",
      "Epoch [26/150], Loss: 4366.2593\n",
      "Epoch [27/150], Loss: 4280.2510\n",
      "Epoch [28/150], Loss: 4218.2627\n",
      "Epoch [29/150], Loss: 4083.7261\n",
      "Epoch [30/150], Loss: 4272.9116\n",
      "Epoch [31/150], Loss: 4312.6792\n",
      "Epoch [32/150], Loss: 4308.3730\n",
      "Epoch [33/150], Loss: 4935.3574\n",
      "Epoch [34/150], Loss: 4228.5352\n",
      "Epoch [35/150], Loss: 2950.7632\n",
      "Epoch [36/150], Loss: 1812.6544\n",
      "Epoch [37/150], Loss: 11471.0000\n",
      "Epoch [38/150], Loss: 8626.7764\n",
      "Epoch [39/150], Loss: 7415.3633\n",
      "Epoch [40/150], Loss: 8145.5146\n",
      "Epoch [41/150], Loss: 7011.8354\n",
      "Epoch [42/150], Loss: 5870.8701\n",
      "Epoch [43/150], Loss: 4647.3291\n",
      "Epoch [44/150], Loss: 3031.8467\n",
      "Epoch [45/150], Loss: 2110.0769\n",
      "Epoch [46/150], Loss: 4156.8247\n",
      "Epoch [47/150], Loss: 16430.5137\n",
      "Epoch [48/150], Loss: 30560.0723\n",
      "Epoch [49/150], Loss: 8474.8945\n",
      "Epoch [50/150], Loss: 4526.3252\n",
      "Epoch [51/150], Loss: 4524.0640\n",
      "Epoch [52/150], Loss: 3137.9082\n",
      "Epoch [53/150], Loss: 2327.5889\n",
      "Epoch [54/150], Loss: 1905.8765\n",
      "Epoch [55/150], Loss: 1903.6993\n",
      "Epoch [56/150], Loss: 2008.6108\n",
      "Epoch [57/150], Loss: 2240.9448\n",
      "Epoch [58/150], Loss: 2387.7710\n",
      "Epoch [59/150], Loss: 2771.6548\n",
      "Epoch [60/150], Loss: 6319.8945\n",
      "Epoch [61/150], Loss: 5161.0327\n",
      "Epoch [62/150], Loss: 10114.9551\n",
      "Epoch [63/150], Loss: 14160.5293\n",
      "Epoch [64/150], Loss: 12900.9336\n",
      "Epoch [65/150], Loss: 3216.0400\n",
      "Epoch [66/150], Loss: 40108.7695\n",
      "Epoch [67/150], Loss: 5164.0703\n",
      "Epoch [68/150], Loss: 3636.3066\n",
      "Epoch [69/150], Loss: 2829.1418\n",
      "Epoch [70/150], Loss: 3986.6216\n",
      "Epoch [71/150], Loss: 8541.4111\n",
      "Epoch [72/150], Loss: 30035.3223\n",
      "Epoch [73/150], Loss: 82652.7031\n",
      "Epoch [74/150], Loss: 11642.1445\n",
      "Epoch [75/150], Loss: 6135.4141\n",
      "Epoch [76/150], Loss: 4383.5142\n",
      "Epoch [77/150], Loss: 3588.0210\n",
      "Epoch [78/150], Loss: 3320.6321\n",
      "Epoch [79/150], Loss: 3087.7351\n",
      "Epoch [80/150], Loss: 2805.9246\n",
      "Epoch [81/150], Loss: 2480.8982\n",
      "Epoch [82/150], Loss: 2233.9597\n",
      "Epoch [83/150], Loss: 1916.4456\n",
      "Epoch [84/150], Loss: 1775.7954\n",
      "Epoch [85/150], Loss: 2116.8657\n",
      "Epoch [86/150], Loss: 1696.2688\n",
      "Epoch [87/150], Loss: 1907.2776\n",
      "Epoch [88/150], Loss: 1571.7228\n",
      "Epoch [89/150], Loss: 2554.5649\n",
      "Epoch [90/150], Loss: 4197.0962\n",
      "Epoch [91/150], Loss: 4038.7822\n",
      "Epoch [92/150], Loss: 3023.7283\n",
      "Epoch [93/150], Loss: 5857.9756\n",
      "Epoch [94/150], Loss: 10583.0449\n",
      "Epoch [95/150], Loss: 10048.5508\n",
      "Epoch [96/150], Loss: 6310.7305\n",
      "Epoch [97/150], Loss: 4394.0659\n",
      "Epoch [98/150], Loss: 3942.4551\n",
      "Epoch [99/150], Loss: 57766.5859\n",
      "Epoch [100/150], Loss: 47069.6758\n",
      "Epoch [101/150], Loss: 8131.1318\n",
      "Epoch [102/150], Loss: 4010.5957\n",
      "Epoch [103/150], Loss: 3463.0427\n",
      "Epoch [104/150], Loss: 3160.5483\n",
      "Epoch [105/150], Loss: 2816.0015\n",
      "Epoch [106/150], Loss: 3276.6816\n",
      "Epoch [107/150], Loss: 3493.0425\n",
      "Epoch [108/150], Loss: 2607.0200\n",
      "Epoch [109/150], Loss: 2713.0449\n",
      "Epoch [110/150], Loss: 1884.6647\n",
      "Epoch [111/150], Loss: 2379.4458\n",
      "Epoch [112/150], Loss: 2911.4954\n",
      "Epoch [113/150], Loss: 2512.0867\n",
      "Epoch [114/150], Loss: 1898.9109\n",
      "Epoch [115/150], Loss: 1976.9072\n",
      "Epoch [116/150], Loss: 3937.3403\n",
      "Epoch [117/150], Loss: 9462.8223\n",
      "Epoch [118/150], Loss: 13888.1055\n",
      "Epoch [119/150], Loss: 11464.0723\n",
      "Epoch [120/150], Loss: 2927.4663\n",
      "Epoch [121/150], Loss: 10893.2607\n",
      "Epoch [122/150], Loss: 55491.6797\n",
      "Epoch [123/150], Loss: 21512.1934\n",
      "Epoch [124/150], Loss: 3743.5178\n",
      "Epoch [125/150], Loss: 3110.8662\n",
      "Epoch [126/150], Loss: 2587.4033\n",
      "Epoch [127/150], Loss: 1798.6331\n",
      "Epoch [128/150], Loss: 1519.1021\n",
      "Epoch [129/150], Loss: 2057.4492\n",
      "Epoch [130/150], Loss: 2204.5039\n",
      "Epoch [131/150], Loss: 1543.4122\n",
      "Epoch [132/150], Loss: 1590.5138\n",
      "Epoch [133/150], Loss: 2813.8252\n",
      "Epoch [134/150], Loss: 6288.0386\n",
      "Epoch [135/150], Loss: 10831.0049\n",
      "Epoch [136/150], Loss: 6010.2227\n",
      "Epoch [137/150], Loss: 10541.0107\n",
      "Epoch [138/150], Loss: 54999.2578\n",
      "Epoch [139/150], Loss: 10890.6318\n",
      "Epoch [140/150], Loss: 6266.5068\n",
      "Epoch [141/150], Loss: 6113.9087\n",
      "Epoch [142/150], Loss: 2847.0718\n",
      "Epoch [143/150], Loss: 1667.8175\n",
      "Epoch [144/150], Loss: 1462.9009\n",
      "Epoch [145/150], Loss: 1397.8618\n",
      "Epoch [146/150], Loss: 1435.8223\n",
      "Epoch [147/150], Loss: 1524.1432\n",
      "Epoch [148/150], Loss: 1592.5066\n",
      "Epoch [149/150], Loss: 1577.6969\n",
      "Epoch [150/150], Loss: 1685.6952\n"
     ]
    }
   ],
   "source": [
    "for epoch in range(num_epochs):\n",
    "    for i, (inputs, labels) in enumerate(train_dataloader):\n",
    "            \n",
    "        inputs = torch.tensor(inputs, dtype=torch.float).to(device)\n",
    "        labels = torch.tensor(labels, dtype=torch.float).to(device)\n",
    "        \n",
    "        # Forward pass\n",
    "        outputs_start, outputs_end = model(inputs)\n",
    "        labels_start, labels_end = labels[:, 0], labels[:, 1] \n",
    "        \n",
    "        loss_start = criterion(outputs_start, labels_start)\n",
    "        loss_end = criterion(outputs_end, labels_end)\n",
    "        loss = loss_start + loss_end\n",
    "        \n",
    "        # обнгуляем градиент, шаг backpropagation, шаг оптимизатора\n",
    "        optimizer.zero_grad() \n",
    "        loss.backward()\n",
    "        optimizer.step()\n",
    "        \n",
    "        \n",
    "    print('Epoch [{}/{}], Loss: {:.4f}'.format(\n",
    "        epoch+1, num_epochs, loss.item())) "
   ]
  },
  {
   "cell_type": "code",
   "execution_count": 293,
   "id": "8e5cab72",
   "metadata": {},
   "outputs": [],
   "source": [
    "# Сохранение модели\n",
    "torch.save(model.state_dict(), model_path)"
   ]
  },
  {
   "cell_type": "code",
   "execution_count": 294,
   "id": "6b44f991",
   "metadata": {},
   "outputs": [],
   "source": [
    "# Если есть сохраненные веса используем для предсказания их\n",
    "if os.path.exists(model_path):\n",
    "    model = RNN(input_size, hidden_size, num_layers, output_size)\n",
    "    model.to(device) \n",
    "    model.load_state_dict(torch.load(model_path))"
   ]
  },
  {
   "cell_type": "code",
   "execution_count": 295,
   "id": "2a287768",
   "metadata": {},
   "outputs": [],
   "source": [
    "pred_data = pd.DataFrame(data=[], columns=['answer_start', 'answer_end'])"
   ]
  },
  {
   "cell_type": "code",
   "execution_count": 296,
   "id": "780484fb",
   "metadata": {},
   "outputs": [],
   "source": [
    "# Предсказание данных\n",
    "with torch.no_grad():\n",
    "    for ind, inputs in enumerate(test_df):\n",
    "       \n",
    "        inputs = torch.tensor(inputs, dtype=torch.float).to(device)\n",
    "        inputs = inputs.unsqueeze(0)\n",
    "        outputs = model.forward(inputs)\n",
    "        start_ind, end_ind = outputs\n",
    "        start_ind = torch.round(start_ind)\n",
    "        end_ind = torch.round(end_ind)\n",
    "        answer_list = sorted([int(start_ind), int(end_ind)])\n",
    "        pred_data.loc[ind, 'answer_start'] = answer_list[0]\n",
    "        pred_data.loc[ind, 'answer_end'] = answer_list[1]\n"
   ]
  },
  {
   "cell_type": "code",
   "execution_count": 297,
   "id": "4d16d692",
   "metadata": {},
   "outputs": [],
   "source": [
    "test = pd.concat([test, pred_data], axis=1)"
   ]
  },
  {
   "cell_type": "code",
   "execution_count": 298,
   "id": "6e8e1621",
   "metadata": {},
   "outputs": [],
   "source": [
    "for ind, row in test.iterrows():\n",
    "    answer_start = row.answer_start\n",
    "    answer_end = row.answer_end\n",
    "    text = row.text\n",
    "    text = list(text)\n",
    "    text = text[answer_start:answer_end]\n",
    "    text = ''.join(text)\n",
    "    test.loc[ind, 'extracted_text'] = text"
   ]
  },
  {
   "cell_type": "code",
   "execution_count": 299,
   "id": "a02d3da7",
   "metadata": {},
   "outputs": [
    {
     "data": {
      "text/html": [
       "<div>\n",
       "<style scoped>\n",
       "    .dataframe tbody tr th:only-of-type {\n",
       "        vertical-align: middle;\n",
       "    }\n",
       "\n",
       "    .dataframe tbody tr th {\n",
       "        vertical-align: top;\n",
       "    }\n",
       "\n",
       "    .dataframe thead th {\n",
       "        text-align: right;\n",
       "    }\n",
       "</style>\n",
       "<table border=\"1\" class=\"dataframe\">\n",
       "  <thead>\n",
       "    <tr style=\"text-align: right;\">\n",
       "      <th></th>\n",
       "      <th>id</th>\n",
       "      <th>text</th>\n",
       "      <th>label</th>\n",
       "      <th>answer_start</th>\n",
       "      <th>answer_end</th>\n",
       "      <th>extracted_text</th>\n",
       "    </tr>\n",
       "  </thead>\n",
       "  <tbody>\n",
       "    <tr>\n",
       "      <th>0</th>\n",
       "      <td>762883279</td>\n",
       "      <td>муниципальный контракт оказание услуга техниче...</td>\n",
       "      <td>обеспечение исполнения контракта</td>\n",
       "      <td>984</td>\n",
       "      <td>1061</td>\n",
       "      <td>оставляться заказчик заключение контракт разме...</td>\n",
       "    </tr>\n",
       "    <tr>\n",
       "      <th>1</th>\n",
       "      <td>311837655</td>\n",
       "      <td>извещение проведение электронный аукцион закуп...</td>\n",
       "      <td>обеспечение исполнения контракта</td>\n",
       "      <td>1266</td>\n",
       "      <td>1365</td>\n",
       "      <td>ск номер корреспондентский счёт требование гар...</td>\n",
       "    </tr>\n",
       "    <tr>\n",
       "      <th>2</th>\n",
       "      <td>540954893</td>\n",
       "      <td>идентификационный код закупка контракт поставк...</td>\n",
       "      <td>обеспечение исполнения контракта</td>\n",
       "      <td>1329</td>\n",
       "      <td>1432</td>\n",
       "      <td>печение государственный муниципальный нужда об...</td>\n",
       "    </tr>\n",
       "    <tr>\n",
       "      <th>3</th>\n",
       "      <td>274660397</td>\n",
       "      <td>идентификационный код закупка контракт поставк...</td>\n",
       "      <td>обеспечение исполнения контракта</td>\n",
       "      <td>1322</td>\n",
       "      <td>1426</td>\n",
       "      <td>а услуга обеспечение государственный муниципал...</td>\n",
       "    </tr>\n",
       "    <tr>\n",
       "      <th>4</th>\n",
       "      <td>732742591</td>\n",
       "      <td>идентификационный код закупка контракт поставк...</td>\n",
       "      <td>обеспечение исполнения контракта</td>\n",
       "      <td>1336</td>\n",
       "      <td>1441</td>\n",
       "      <td>уга обеспечение государственный муниципальный ...</td>\n",
       "    </tr>\n",
       "  </tbody>\n",
       "</table>\n",
       "</div>"
      ],
      "text/plain": [
       "          id                                               text  \\\n",
       "0  762883279  муниципальный контракт оказание услуга техниче...   \n",
       "1  311837655  извещение проведение электронный аукцион закуп...   \n",
       "2  540954893  идентификационный код закупка контракт поставк...   \n",
       "3  274660397  идентификационный код закупка контракт поставк...   \n",
       "4  732742591  идентификационный код закупка контракт поставк...   \n",
       "\n",
       "                              label answer_start answer_end  \\\n",
       "0  обеспечение исполнения контракта          984       1061   \n",
       "1  обеспечение исполнения контракта         1266       1365   \n",
       "2  обеспечение исполнения контракта         1329       1432   \n",
       "3  обеспечение исполнения контракта         1322       1426   \n",
       "4  обеспечение исполнения контракта         1336       1441   \n",
       "\n",
       "                                      extracted_text  \n",
       "0  оставляться заказчик заключение контракт разме...  \n",
       "1  ск номер корреспондентский счёт требование гар...  \n",
       "2  печение государственный муниципальный нужда об...  \n",
       "3  а услуга обеспечение государственный муниципал...  \n",
       "4  уга обеспечение государственный муниципальный ...  "
      ]
     },
     "execution_count": 299,
     "metadata": {},
     "output_type": "execute_result"
    }
   ],
   "source": [
    "test.head()"
   ]
  },
  {
   "cell_type": "markdown",
   "id": "ce013924",
   "metadata": {},
   "source": [
    "Преобразуем в json"
   ]
  },
  {
   "cell_type": "code",
   "execution_count": 304,
   "id": "7d2138a0",
   "metadata": {},
   "outputs": [],
   "source": [
    "result_dict = []\n",
    "\n",
    "for _, row in test.iterrows():\n",
    "    \n",
    "    extracted_part = {\n",
    "        'text': row['extracted_text'],\n",
    "        'answer_start': row['answer_start'],\n",
    "        'answer_end': row['answer_end']\n",
    "    }\n",
    "    \n",
    "    result_dict.append({\n",
    "        'id': row['id'],\n",
    "        'text': row['text'],\n",
    "        'label': row['label'],\n",
    "        'extracted_part': extracted_part\n",
    "    })\n",
    "\n",
    "# Сохранение словаря в файл в формате JSON\n",
    "with open('predictions.json', 'w') as f:\n",
    "    json.dump(result_dict, f)"
   ]
  },
  {
   "cell_type": "code",
   "execution_count": 28,
   "id": "3010181b",
   "metadata": {},
   "outputs": [],
   "source": []
  },
  {
   "cell_type": "code",
   "execution_count": null,
   "id": "21638d0c",
   "metadata": {},
   "outputs": [],
   "source": []
  },
  {
   "cell_type": "code",
   "execution_count": null,
   "id": "22da502f",
   "metadata": {},
   "outputs": [],
   "source": []
  },
  {
   "cell_type": "code",
   "execution_count": null,
   "id": "18ac6fb9",
   "metadata": {},
   "outputs": [],
   "source": []
  },
  {
   "cell_type": "code",
   "execution_count": null,
   "id": "eeac2e86",
   "metadata": {},
   "outputs": [],
   "source": []
  },
  {
   "cell_type": "code",
   "execution_count": null,
   "id": "94ec2385",
   "metadata": {},
   "outputs": [],
   "source": []
  }
 ],
 "metadata": {
  "kernelspec": {
   "display_name": "Python 3 (ipykernel)",
   "language": "python",
   "name": "python3"
  },
  "language_info": {
   "codemirror_mode": {
    "name": "ipython",
    "version": 3
   },
   "file_extension": ".py",
   "mimetype": "text/x-python",
   "name": "python",
   "nbconvert_exporter": "python",
   "pygments_lexer": "ipython3",
   "version": "3.8.5"
  }
 },
 "nbformat": 4,
 "nbformat_minor": 5
}
